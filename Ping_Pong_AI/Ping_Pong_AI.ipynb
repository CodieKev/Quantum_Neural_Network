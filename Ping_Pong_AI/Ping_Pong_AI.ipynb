{
 "cells": [
  {
   "cell_type": "code",
   "execution_count": 8,
   "metadata": {},
   "outputs": [
    {
     "name": "stdout",
     "output_type": "stream",
     "text": [
      "             Y     Theta  State\n",
      "0     1.826676  1.916355      3\n",
      "1     1.285353  2.108773      3\n",
      "2     1.729290  0.455006      2\n",
      "3     1.393732  0.092833      2\n",
      "4     1.985295  1.584707      3\n",
      "...        ...       ...    ...\n",
      "1495  1.610727  0.892353      0\n",
      "1496  0.080955  1.738738      0\n",
      "1497  1.865660  0.796734      0\n",
      "1498  0.426849  2.254604      3\n",
      "1499  1.537421  1.589979      3\n",
      "\n",
      "[1500 rows x 3 columns]\n"
     ]
    }
   ],
   "source": [
    "import pandas as pd\n",
    "df = pd.read_csv (r'Data.csv')\n",
    "print (df)"
   ]
  },
  {
   "cell_type": "code",
   "execution_count": null,
   "metadata": {},
   "outputs": [],
   "source": []
  },
  {
   "cell_type": "code",
   "execution_count": null,
   "metadata": {},
   "outputs": [],
   "source": []
  },
  {
   "cell_type": "code",
   "execution_count": null,
   "metadata": {},
   "outputs": [],
   "source": []
  }
 ],
 "metadata": {
  "kernelspec": {
   "display_name": "Python 3",
   "language": "python",
   "name": "python3"
  },
  "language_info": {
   "codemirror_mode": {
    "name": "ipython",
    "version": 3
   },
   "file_extension": ".py",
   "mimetype": "text/x-python",
   "name": "python",
   "nbconvert_exporter": "python",
   "pygments_lexer": "ipython3",
   "version": "3.7.1"
  }
 },
 "nbformat": 4,
 "nbformat_minor": 4
}
