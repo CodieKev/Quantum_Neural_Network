{
 "cells": [
  {
   "cell_type": "code",
   "execution_count": 20,
   "metadata": {},
   "outputs": [],
   "source": [
    "import pandas as pd\n",
    "import random\n",
    "import numpy as np\n",
    "from math import *"
   ]
  },
  {
   "cell_type": "code",
   "execution_count": 1,
   "metadata": {},
   "outputs": [],
   "source": [
    "import pandas as pd\n",
    "\n",
    "cars = {'Brand': ['Honda Civic','Toyota Corolla','Ford Focus','Audi A4'],\n",
    "        'Price': [32000,35000,37000,45000]\n",
    "        }\n",
    "\n",
    "df = pd.DataFrame(cars, columns = ['Brand', 'Price'])\n",
    "\n",
    "df.to_excel (r'export_dataframe.xlsx', index = False, header=True)"
   ]
  },
  {
   "cell_type": "code",
   "execution_count": 7,
   "metadata": {},
   "outputs": [
    {
     "name": "stdout",
     "output_type": "stream",
     "text": [
      "0.1583143544522002\n"
     ]
    }
   ],
   "source": [
    "print(random.random())"
   ]
  },
  {
   "cell_type": "code",
   "execution_count": 15,
   "metadata": {},
   "outputs": [],
   "source": [
    "theta = np.random.rand(500)*np.pi\n",
    "y = np.random.rand(500)*2"
   ]
  },
  {
   "cell_type": "code",
   "execution_count": 49,
   "metadata": {},
   "outputs": [],
   "source": [
    "state = [0]*500\n",
    "state_1 = [0]*500"
   ]
  },
  {
   "cell_type": "code",
   "execution_count": 16,
   "metadata": {},
   "outputs": [],
   "source": [
    "theta_d = theta-np.pi/2"
   ]
  },
  {
   "cell_type": "code",
   "execution_count": 41,
   "metadata": {},
   "outputs": [
    {
     "data": {
      "text/plain": [
       "(-0.23, -0.0)"
      ]
     },
     "execution_count": 41,
     "metadata": {},
     "output_type": "execute_result"
    }
   ],
   "source": [
    " modf(-0.23)"
   ]
  },
  {
   "cell_type": "code",
   "execution_count": 44,
   "metadata": {},
   "outputs": [],
   "source": [
    "def result(v1,v2):\n",
    "    if v2<0:\n",
    "        v2 = - v2\n",
    "        v1 = 2-v1\n",
    "        rev = True\n",
    "    else:\n",
    "        rev = False\n",
    "        \n",
    "    hi = 1.5*tan(v2)\n",
    "    (frac,gi) = modf((hi+v1)/2)\n",
    "    #print((hi+v1)/2,frac)\n",
    "    if gi% 2==0:\n",
    "        state_i= floor(frac*4)\n",
    "    else:\n",
    "        state_i = 3- floor(frac*4)\n",
    "    if rev == True:\n",
    "        state_i = 3 - state_i\n",
    "    return(state_i)\n",
    "        "
   ]
  },
  {
   "cell_type": "code",
   "execution_count": 50,
   "metadata": {},
   "outputs": [],
   "source": [
    "for i in range(len(theta)):\n",
    "    theta_i = theta_d[i]\n",
    "    yi = y[i]\n",
    "    state_1[i] = result(yi,theta_i)  "
   ]
  },
  {
   "cell_type": "code",
   "execution_count": null,
   "metadata": {},
   "outputs": [],
   "source": []
  },
  {
   "cell_type": "code",
   "execution_count": null,
   "metadata": {},
   "outputs": [],
   "source": []
  }
 ],
 "metadata": {
  "kernelspec": {
   "display_name": "Python 3",
   "language": "python",
   "name": "python3"
  },
  "language_info": {
   "codemirror_mode": {
    "name": "ipython",
    "version": 3
   },
   "file_extension": ".py",
   "mimetype": "text/x-python",
   "name": "python",
   "nbconvert_exporter": "python",
   "pygments_lexer": "ipython3",
   "version": "3.7.1"
  }
 },
 "nbformat": 4,
 "nbformat_minor": 4
}
