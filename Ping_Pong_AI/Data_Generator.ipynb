{
 "cells": [
  {
   "cell_type": "code",
   "execution_count": 107,
   "metadata": {},
   "outputs": [],
   "source": [
    "import pandas as pd\n",
    "import random\n",
    "import numpy as np\n",
    "from math import *"
   ]
  },
  {
   "cell_type": "code",
   "execution_count": 108,
   "metadata": {},
   "outputs": [],
   "source": [
    "n = 1500\n",
    "#theta = np.random.rand(n)*np.pi\n",
    "theta = np.random.uniform(low=0.5, high=2.6, size=(n,))\n",
    "y = np.random.rand(n)*2\n",
    "state = [0]*n"
   ]
  },
  {
   "cell_type": "code",
   "execution_count": 109,
   "metadata": {},
   "outputs": [],
   "source": [
    "def result(v1,v2):\n",
    "    if v2<0:\n",
    "        v2 = - v2\n",
    "        v1 = 2-v1\n",
    "        rev = True\n",
    "    else:\n",
    "        rev = False\n",
    "        \n",
    "    hi = 1.5*tan(v2)\n",
    "    (frac,gi) = modf((hi+v1)/2)\n",
    "    if gi% 2==0:\n",
    "        state_i= floor(frac*4)\n",
    "    else:\n",
    "        state_i = 3- floor(frac*4)\n",
    "    if rev == True:\n",
    "        state_i = 3 - state_i\n",
    "    return(state_i)\n",
    "        "
   ]
  },
  {
   "cell_type": "code",
   "execution_count": 110,
   "metadata": {},
   "outputs": [],
   "source": [
    "for i in range(len(theta)):\n",
    "    theta_i = theta[i]-np.pi/2\n",
    "    yi = y[i]\n",
    "    state[i] = result(yi,theta_i)  "
   ]
  },
  {
   "cell_type": "code",
   "execution_count": 111,
   "metadata": {},
   "outputs": [],
   "source": [
    "data = {'Y' : y,\n",
    "        'Theta': theta,\n",
    "        'State' : state\n",
    "        }"
   ]
  },
  {
   "cell_type": "code",
   "execution_count": 112,
   "metadata": {},
   "outputs": [],
   "source": [
    "df = pd.DataFrame(data, columns = ['Y', 'Theta','State'])\n",
    "\n",
    "df.to_csv (r'Data.csv', index = False, header=True)"
   ]
  },
  {
   "cell_type": "code",
   "execution_count": null,
   "metadata": {},
   "outputs": [],
   "source": []
  }
 ],
 "metadata": {
  "kernelspec": {
   "display_name": "Python 3",
   "language": "python",
   "name": "python3"
  },
  "language_info": {
   "codemirror_mode": {
    "name": "ipython",
    "version": 3
   },
   "file_extension": ".py",
   "mimetype": "text/x-python",
   "name": "python",
   "nbconvert_exporter": "python",
   "pygments_lexer": "ipython3",
   "version": "3.7.1"
  }
 },
 "nbformat": 4,
 "nbformat_minor": 4
}
