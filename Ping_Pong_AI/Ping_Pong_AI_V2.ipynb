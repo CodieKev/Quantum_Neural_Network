{
 "cells": [
  {
   "cell_type": "code",
   "execution_count": 1,
   "metadata": {},
   "outputs": [],
   "source": [
    "from qiskit import *\n",
    "import numpy as np\n",
    "import pandas as pd\n",
    "import plotly.express as px\n",
    "from scipy.optimize import minimize\n",
    "df = pd.read_csv (r'Data.csv')\n",
    "shots = 100"
   ]
  },
  {
   "cell_type": "code",
   "execution_count": 2,
   "metadata": {},
   "outputs": [],
   "source": [
    "Y = list(df['Y'])\n",
    "Theta = list(df['Theta'])\n",
    "State = list(df['State'])"
   ]
  },
  {
   "cell_type": "code",
   "execution_count": 3,
   "metadata": {},
   "outputs": [],
   "source": [
    "Y_Train_0 = Y[:500]\n",
    "T_Train_0 = Theta[:500]\n",
    "S_Train_0 = State[:500]\n",
    "\n",
    "Y_Test_0 = Y[1000:]\n",
    "T_Test_0 = Theta[1000:]\n",
    "S_Test_0 = State[1000:]\n",
    "\n",
    "\n",
    "for i in range(len(S_Train_0)):\n",
    "    if S_Train_0[i] !=0:\n",
    "       S_Train_0[i] =1\n",
    "for i in range(len(S_Test_0)):\n",
    "    if S_Test_0[i] !=0:\n",
    "       S_Test_0[i] =1\n"
   ]
  },
  {
   "cell_type": "code",
   "execution_count": 38,
   "metadata": {},
   "outputs": [],
   "source": [
    "def Circuit_0(Params,V):\n",
    "    qc = QuantumCircuit(3,2)\n",
    "    qc.h(range(2))\n",
    "    qc.ry(V[0],0)\n",
    "    qc.ry(V[1],1)\n",
    "    qc.ccx(0,1,2)\n",
    "    qc.ry((2.0*(np.pi - V[0])*(np.pi - V[1])),2)\n",
    "    qc.ccx(0,1,2)\n",
    "    for i in range(int(len(Params)/6)):\n",
    "        qc.ry(Params[0+6*i],0)\n",
    "        qc.ry(Params[1+6*i],1)\n",
    "        qc.ry(Params[2+6*i],1)\n",
    "        qc.cry(Params[3+6*i],0,1)\n",
    "        qc.cry(Params[4+6*i],1,2)\n",
    "        qc.cry(Params[5+6*i],2,0)\n",
    "    qc.measure([0,1],[0,1])\n",
    "    backend = Aer.get_backend('qasm_simulator')\n",
    "    job = execute(qc, backend=backend, shots=shots)\n",
    "    job_result = job.result()\n",
    "    counts = job_result.get_counts(qc)\n",
    "\n",
    "    A = list(job_result.get_counts(qc).keys())\n",
    "    output = [0]*2\n",
    "    for i in A:\n",
    "        B = list(i)\n",
    "        for j in range (2):\n",
    "            if B[j] == '1':\n",
    "                output[j]+= int(job_result.get_counts(qc).get(i)) \n",
    "    return (output)\n",
    "    \n",
    "        "
   ]
  },
  {
   "cell_type": "code",
   "execution_count": 36,
   "metadata": {},
   "outputs": [
    {
     "data": {
      "text/plain": [
       "[51, 49]"
      ]
     },
     "execution_count": 36,
     "metadata": {},
     "output_type": "execute_result"
    }
   ],
   "source": [
    "Circuit_0([0]*6,[0,0])"
   ]
  },
  {
   "cell_type": "code",
   "execution_count": 43,
   "metadata": {},
   "outputs": [],
   "source": [
    "Params = np.random.uniform(low=-2.6, high=2.6, size=(60,))"
   ]
  },
  {
   "cell_type": "code",
   "execution_count": 44,
   "metadata": {},
   "outputs": [],
   "source": [
    "def Cost_0(Params):\n",
    "    cost = 0\n",
    "    for i in range (len(Y_Train_0)):\n",
    "        temp = [0]*2\n",
    "        temp[S_Train_0[i]] = shots\n",
    "        error = sum((np.array(Circuit_0(Params,[Y_Train_0[i],T_Train_0[i]]))-np.array(temp))**2)\n",
    "        \n",
    "        cost = cost+error\n",
    "    return(cost)\n",
    "\n",
    "def eff(Params):\n",
    "    cost = 0\n",
    "    for i in range (len(Y_Test_0)):\n",
    "        output = Circuit_0(Params,[Y_Test_0[i],T_Test_0[i]])\n",
    "        if output.index(max(output)) == S_Test_0[i]:\n",
    "            cost = cost+1\n",
    "    return(cost/len(Y_Test_0))"
   ]
  },
  {
   "cell_type": "code",
   "execution_count": 45,
   "metadata": {},
   "outputs": [
    {
     "data": {
      "text/plain": [
       "     fun: 1542611.0\n",
       "   maxcv: 0.0\n",
       " message: 'Optimization terminated successfully.'\n",
       "    nfev: 554\n",
       "  status: 1\n",
       " success: True\n",
       "       x: array([-0.91988668, -2.37857667, -1.24945958,  1.8667581 , -1.59206002,\n",
       "       -0.964481  ,  2.08104764,  2.39629154,  1.51353063,  1.24975113,\n",
       "       -3.40806796,  1.92142355,  0.09268852, -0.4609485 , -1.07264893,\n",
       "       -1.06345035,  2.44198915, -1.81209708,  1.06506225,  1.82339335,\n",
       "       -0.1375064 ,  2.61117875,  4.02466709,  1.50933917, -0.86304346,\n",
       "        0.08233242, -2.61211995, -1.72039764, -2.67395146, -2.13142065,\n",
       "        1.57380215,  2.39280699,  1.31962102,  0.12508776,  1.22694081,\n",
       "        0.94207408, -1.77777791,  0.8643223 , -0.55638753, -2.1635255 ,\n",
       "        0.06844219,  1.07088571,  0.63476254, -2.63541135, -2.62553936,\n",
       "       -0.62926915, -0.48438532, -0.96919599, -0.51338341, -1.28048345,\n",
       "        0.33840442, -2.09717795, -1.10996178, -0.02469965,  0.94828689,\n",
       "       -0.28817398,  0.60791818,  0.43961576,  1.81967024, -1.16333524])"
      ]
     },
     "execution_count": 45,
     "metadata": {},
     "output_type": "execute_result"
    }
   ],
   "source": [
    "minimum_0 = minimize(Cost_0, Params, method=\"COBYLA\", tol=0.001)\n",
    "minimum_0"
   ]
  },
  {
   "cell_type": "code",
   "execution_count": 46,
   "metadata": {},
   "outputs": [
    {
     "data": {
      "text/plain": [
       "0.75725"
      ]
     },
     "execution_count": 46,
     "metadata": {},
     "output_type": "execute_result"
    }
   ],
   "source": [
    "eff(minimum_0.x)"
   ]
  },
  {
   "cell_type": "code",
   "execution_count": null,
   "metadata": {},
   "outputs": [],
   "source": []
  },
  {
   "cell_type": "code",
   "execution_count": null,
   "metadata": {},
   "outputs": [],
   "source": []
  }
 ],
 "metadata": {
  "kernelspec": {
   "display_name": "Python 3",
   "language": "python",
   "name": "python3"
  },
  "language_info": {
   "codemirror_mode": {
    "name": "ipython",
    "version": 3
   },
   "file_extension": ".py",
   "mimetype": "text/x-python",
   "name": "python",
   "nbconvert_exporter": "python",
   "pygments_lexer": "ipython3",
   "version": "3.7.1"
  }
 },
 "nbformat": 4,
 "nbformat_minor": 4
}
