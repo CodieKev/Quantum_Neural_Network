{
 "cells": [
  {
   "cell_type": "code",
   "execution_count": 1,
   "metadata": {},
   "outputs": [],
   "source": [
    "from qiskit import *\n",
    "import numpy as np\n",
    "import pandas as pd\n",
    "import plotly.express as px\n",
    "from scipy.optimize import minimize\n",
    "df = pd.read_csv (r'Data.csv')\n",
    "shots = 100"
   ]
  },
  {
   "cell_type": "code",
   "execution_count": 2,
   "metadata": {},
   "outputs": [],
   "source": [
    "Y = list(df['Y'])\n",
    "Theta = list(df['Theta'])\n",
    "State = list(df['State'])"
   ]
  },
  {
   "cell_type": "markdown",
   "metadata": {},
   "source": [
    "# |00>"
   ]
  },
  {
   "cell_type": "code",
   "execution_count": 3,
   "metadata": {},
   "outputs": [],
   "source": [
    "Y_Train_0 = Y[:500]\n",
    "T_Train_0 = Theta[:500]\n",
    "S_Train_0 = State[:500]\n",
    "\n",
    "Y_Test_0 = Y[1000:]\n",
    "T_Test_0 = Theta[1000:]\n",
    "S_Test_0 = State[1000:]\n",
    "\n",
    "\n",
    "for i in range(len(S_Train_0)):\n",
    "    if S_Train_0[i] !=0:\n",
    "       S_Train_0[i] =1\n",
    "for i in range(len(S_Test_0)):\n",
    "    if S_Test_0[i] !=0:\n",
    "       S_Test_0[i] =1\n"
   ]
  },
  {
   "cell_type": "code",
   "execution_count": 55,
   "metadata": {},
   "outputs": [],
   "source": [
    "def Circuit_0(Params,V):\n",
    "    qc = QuantumCircuit(3,2)\n",
    "    qc.h(range(2))\n",
    "    qc.ry(V[0],0)\n",
    "    qc.ry(V[1],1)\n",
    "    qc.cx(1,2)\n",
    "    qc.ry((2.0*(np.pi - V[0])*(np.pi - V[1])),2)\n",
    "    qc.cx(1,2)\n",
    "    for i in range(int(len(Params)/6)):\n",
    "\n",
    "        \n",
    "        qc.ry(Params[0+6*i],0)\n",
    "        qc.ry(Params[1+6*i],1)\n",
    "        qc.ry(Params[2+6*i],2)\n",
    "        qc.cry(Params[5+6*i],2,0)\n",
    "        qc.cry(Params[4+6*i],1,2)\n",
    "        qc.cry(Params[5+6*i],2,0)\n",
    "        \n",
    "        \n",
    "    qc.measure([0,1],[0,1])\n",
    "    backend = Aer.get_backend('qasm_simulator')\n",
    "    job = execute(qc, backend=backend, shots=shots)\n",
    "    job_result = job.result()\n",
    "    counts = job_result.get_counts(qc)\n",
    "\n",
    "    A = list(job_result.get_counts(qc).keys())\n",
    "    output = [0]*2\n",
    "    for i in A:\n",
    "        B = list(i)\n",
    "        for j in range (2):\n",
    "            if B[j] == '1':\n",
    "                output[j]+= int(job_result.get_counts(qc).get(i)) \n",
    "    return (output)\n",
    "    \n",
    "        "
   ]
  },
  {
   "cell_type": "code",
   "execution_count": 56,
   "metadata": {},
   "outputs": [
    {
     "data": {
      "text/plain": [
       "[38, 47]"
      ]
     },
     "execution_count": 56,
     "metadata": {},
     "output_type": "execute_result"
    }
   ],
   "source": [
    "Circuit_0([0]*6,[0,0])"
   ]
  },
  {
   "cell_type": "code",
   "execution_count": 57,
   "metadata": {},
   "outputs": [],
   "source": [
    "Params = np.random.uniform(low=-2.6, high=2.6, size=(60,))"
   ]
  },
  {
   "cell_type": "code",
   "execution_count": 58,
   "metadata": {},
   "outputs": [],
   "source": [
    "def Cost_0(Params):\n",
    "    cost = 0\n",
    "    for i in range (len(Y_Train_0)):\n",
    "        temp = [0]*2\n",
    "        temp[S_Train_0[i]] = shots\n",
    "        error = sum((np.array(Circuit_0(Params,[Y_Train_0[i],T_Train_0[i]]))-np.array(temp))**2)\n",
    "        \n",
    "        cost = cost+error\n",
    "    return(cost)\n",
    "\n",
    "def eff(Params):\n",
    "    cost = 0\n",
    "    for i in range (len(Y_Test_0)):\n",
    "        output = Circuit_0(Params,[Y_Test_0[i],T_Test_0[i]])\n",
    "        if output.index(max(output)) == S_Test_0[i]:\n",
    "            cost = cost+1\n",
    "    return(cost/len(Y_Test_0))"
   ]
  },
  {
   "cell_type": "code",
   "execution_count": 59,
   "metadata": {},
   "outputs": [
    {
     "data": {
      "text/plain": [
       "     fun: 1467745.0\n",
       "   maxcv: 0.0\n",
       " message: 'Optimization terminated successfully.'\n",
       "    nfev: 470\n",
       "  status: 1\n",
       " success: True\n",
       "       x: array([-1.32050447,  1.91188687,  0.83400038,  0.82287872, -1.36944167,\n",
       "       -0.65059106, -2.3372948 , -0.33341788, -0.52376791,  2.23134947,\n",
       "        0.10751509,  0.68020692,  0.61432377, -1.03276528,  0.53491719,\n",
       "       -0.16715733,  0.74045423,  1.82590224,  1.59192792,  3.03806271,\n",
       "       -1.60917691,  3.07867588,  0.67456776, -0.99911919,  1.73976449,\n",
       "        0.14839458,  2.25998885,  2.67500513, -1.46258032, -0.18612752,\n",
       "       -0.03665251,  0.38421255,  2.26815892,  0.87186241,  1.03090214,\n",
       "        2.45967185, -0.35571253, -0.65702892, -2.37445666, -0.37776353,\n",
       "       -0.19435382, -1.03356075,  1.68637912, -0.11740541, -1.99213708,\n",
       "        1.83136791, -0.12230154,  1.76831118,  0.83696012,  1.39325355,\n",
       "       -0.8082986 ,  1.06697633,  0.92877131,  1.57673407, -0.99167218,\n",
       "       -0.68700655, -1.33751703, -0.86800175,  0.46930352, -0.4949639 ])"
      ]
     },
     "execution_count": 59,
     "metadata": {},
     "output_type": "execute_result"
    }
   ],
   "source": [
    "minimum_0 = minimize(Cost_0, Params, method=\"COBYLA\", tol=0.001)\n",
    "minimum_0"
   ]
  },
  {
   "cell_type": "code",
   "execution_count": 60,
   "metadata": {},
   "outputs": [
    {
     "data": {
      "text/plain": [
       "0.76775"
      ]
     },
     "execution_count": 60,
     "metadata": {},
     "output_type": "execute_result"
    }
   ],
   "source": [
    "eff(minimum_0.x)"
   ]
  },
  {
   "cell_type": "code",
   "execution_count": null,
   "metadata": {},
   "outputs": [],
   "source": []
  },
  {
   "cell_type": "code",
   "execution_count": null,
   "metadata": {},
   "outputs": [],
   "source": []
  },
  {
   "cell_type": "code",
   "execution_count": 74,
   "metadata": {},
   "outputs": [],
   "source": [
    "def Circuit_0_1(Params,V):\n",
    "    qc = QuantumCircuit(2,2)\n",
    "    qc.h(range(2))\n",
    "    qc.ry(V[0],0)\n",
    "    qc.ry(V[1],1)\n",
    "    qc.cx(0,1)\n",
    "    qc.ry((2.0*(np.pi - V[0])*(np.pi - V[1])),1)\n",
    "    qc.cx(0,1)\n",
    "    for i in range(int(len(Params)/5)):\n",
    "        \n",
    "        qc.ry(Params[0+5*i],0)\n",
    "        qc.ry(Params[1+5*i],1)\n",
    "        qc.rx(Params[2+5*i],0)\n",
    "        qc.rx(Params[3+5*i],1)\n",
    "        \n",
    "        qc.crz(Params[4+5*i],0,1)\n",
    "        \n",
    "        \n",
    "    qc.measure([0,1],[0,1])\n",
    "    backend = Aer.get_backend('qasm_simulator')\n",
    "    job = execute(qc, backend=backend, shots=shots)\n",
    "    job_result = job.result()\n",
    "    counts = job_result.get_counts(qc)\n",
    "\n",
    "    A = list(job_result.get_counts(qc).keys())\n",
    "    output = [0]*2\n",
    "    for i in A:\n",
    "        B = list(i)\n",
    "        for j in range (2):\n",
    "            if B[j] == '1':\n",
    "                output[j]+= int(job_result.get_counts(qc).get(i)) \n",
    "    return (output)\n",
    "    \n",
    "        "
   ]
  },
  {
   "cell_type": "code",
   "execution_count": 75,
   "metadata": {},
   "outputs": [],
   "source": [
    "def Cost_0(Params):\n",
    "    cost = 0\n",
    "    for i in range (len(Y_Train_0)):\n",
    "        temp = [0]*2\n",
    "        temp[S_Train_0[i]] = shots\n",
    "        error = sum((np.array(Circuit_0_1(Params,[Y_Train_0[i],T_Train_0[i]]))-np.array(temp))**2)\n",
    "        \n",
    "        cost = cost+error\n",
    "    return(cost)\n",
    "\n",
    "def eff(Params):\n",
    "    cost = 0\n",
    "    for i in range (len(Y_Test_0)):\n",
    "        output = Circuit_0_1(Params,[Y_Test_0[i],T_Test_0[i]])\n",
    "        if output.index(max(output)) == S_Test_0[i]:\n",
    "            cost = cost+1\n",
    "    return(cost/len(Y_Test_0))"
   ]
  },
  {
   "cell_type": "code",
   "execution_count": 76,
   "metadata": {},
   "outputs": [],
   "source": [
    "Params = np.random.uniform(low=-2.6, high=2.6, size=(60,))"
   ]
  },
  {
   "cell_type": "code",
   "execution_count": null,
   "metadata": {},
   "outputs": [],
   "source": [
    "minimum_0_1 = minimize(Cost_0, Params, method=\"COBYLA\", tol=0.001)\n",
    "minimum_0_1"
   ]
  },
  {
   "cell_type": "code",
   "execution_count": null,
   "metadata": {},
   "outputs": [],
   "source": [
    "eff(minimum_0_1.x)"
   ]
  },
  {
   "cell_type": "markdown",
   "metadata": {},
   "source": [
    "# |01>"
   ]
  },
  {
   "cell_type": "code",
   "execution_count": null,
   "metadata": {},
   "outputs": [],
   "source": []
  },
  {
   "cell_type": "code",
   "execution_count": null,
   "metadata": {},
   "outputs": [],
   "source": []
  },
  {
   "cell_type": "code",
   "execution_count": null,
   "metadata": {},
   "outputs": [],
   "source": []
  },
  {
   "cell_type": "code",
   "execution_count": null,
   "metadata": {},
   "outputs": [],
   "source": []
  }
 ],
 "metadata": {
  "kernelspec": {
   "display_name": "Python 3",
   "language": "python",
   "name": "python3"
  },
  "language_info": {
   "codemirror_mode": {
    "name": "ipython",
    "version": 3
   },
   "file_extension": ".py",
   "mimetype": "text/x-python",
   "name": "python",
   "nbconvert_exporter": "python",
   "pygments_lexer": "ipython3",
   "version": "3.7.1"
  }
 },
 "nbformat": 4,
 "nbformat_minor": 4
}
